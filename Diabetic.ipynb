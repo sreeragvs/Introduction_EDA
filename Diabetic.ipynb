{
 "cells": [
  {
   "cell_type": "markdown",
   "metadata": {
    "id": "v0QvWvaYOc3A"
   },
   "source": [
    "# **Objective**"
   ]
  },
  {
   "cell_type": "markdown",
   "metadata": {
    "id": "mVXNdbztOhnH"
   },
   "source": [
    "This EDA project is a data analysis of a healthcare dataset focused on identifying key factors associated with diabetes.\n",
    "\n",
    "The goal is to discover patterns and insights to better understand the characteristics of the diabetic population within the dataset."
   ]
  },
  {
   "cell_type": "code",
   "execution_count": 1,
   "metadata": {
    "executionInfo": {
     "elapsed": 1049,
     "status": "ok",
     "timestamp": 1755450645783,
     "user": {
      "displayName": "SREERAG vs",
      "userId": "02446226393956372357"
     },
     "user_tz": -330
    },
    "id": "3ZCTqhyQ3rYb"
   },
   "outputs": [],
   "source": [
    "import pandas as pd\n",
    "import numpy as np\n",
    "import matplotlib.pyplot as plt\n",
    "import seaborn as sns"
   ]
  },
  {
   "cell_type": "code",
   "execution_count": 2,
   "metadata": {
    "executionInfo": {
     "elapsed": 6,
     "status": "ok",
     "timestamp": 1755450645785,
     "user": {
      "displayName": "SREERAG vs",
      "userId": "02446226393956372357"
     },
     "user_tz": -330
    },
    "id": "UpILaCw-37Zy"
   },
   "outputs": [],
   "source": [
    "df = pd.read_csv('healthcare_dataset1_biased.csv')"
   ]
  },
  {
   "cell_type": "code",
   "execution_count": null,
   "metadata": {
    "colab": {
     "base_uri": "https://localhost:8080/",
     "height": 206
    },
    "executionInfo": {
     "elapsed": 163,
     "status": "ok",
     "timestamp": 1755450645948,
     "user": {
      "displayName": "SREERAG vs",
      "userId": "02446226393956372357"
     },
     "user_tz": -330
    },
    "id": "md23Pne53-S9",
    "outputId": "acdf80a8-f5fd-4dbb-c27b-c04fbdc6c2b3"
   },
   "outputs": [],
   "source": [
    "df.head()"
   ]
  },
  {
   "cell_type": "code",
   "execution_count": null,
   "metadata": {
    "colab": {
     "base_uri": "https://localhost:8080/"
    },
    "executionInfo": {
     "elapsed": 19,
     "status": "ok",
     "timestamp": 1755450646032,
     "user": {
      "displayName": "SREERAG vs",
      "userId": "02446226393956372357"
     },
     "user_tz": -330
    },
    "id": "LVuIlzJb4JYF",
    "outputId": "29d8b5f2-3e81-4468-a4e7-9f6c5570c2d6"
   },
   "outputs": [],
   "source": [
    "df.shape"
   ]
  },
  {
   "cell_type": "code",
   "execution_count": null,
   "metadata": {
    "colab": {
     "base_uri": "https://localhost:8080/",
     "height": 429
    },
    "executionInfo": {
     "elapsed": 9,
     "status": "ok",
     "timestamp": 1755450646044,
     "user": {
      "displayName": "SREERAG vs",
      "userId": "02446226393956372357"
     },
     "user_tz": -330
    },
    "id": "D29YlDyX4ALm",
    "outputId": "ccb86586-3835-4a48-865d-56f534c56f99"
   },
   "outputs": [],
   "source": [
    "df.dtypes"
   ]
  },
  {
   "cell_type": "code",
   "execution_count": null,
   "metadata": {
    "executionInfo": {
     "elapsed": 4,
     "status": "ok",
     "timestamp": 1755450646053,
     "user": {
      "displayName": "SREERAG vs",
      "userId": "02446226393956372357"
     },
     "user_tz": -330
    },
    "id": "SzAwDyFb9IuW"
   },
   "outputs": [],
   "source": [
    "# rename column W_kg to Weight_kg\n",
    "df.rename(columns={'W_kg':'Weight_kg'}, inplace=True)"
   ]
  },
  {
   "cell_type": "markdown",
   "metadata": {},
   "source": [
    "# Dealing missing values"
   ]
  },
  {
   "cell_type": "code",
   "execution_count": 3,
   "metadata": {
    "colab": {
     "base_uri": "https://localhost:8080/",
     "height": 429
    },
    "executionInfo": {
     "elapsed": 11,
     "status": "ok",
     "timestamp": 1755450646152,
     "user": {
      "displayName": "SREERAG vs",
      "userId": "02446226393956372357"
     },
     "user_tz": -330
    },
    "id": "aWiV2kYG4DQG",
    "outputId": "3e1ab584-ea4f-4ebc-f692-31531cad194b"
   },
   "outputs": [
    {
     "data": {
      "text/plain": [
       "Age                   3023\n",
       "W_kg                     0\n",
       "Height_cm                0\n",
       "BMI                   1511\n",
       "Continent              500\n",
       "Blood_Pressure           0\n",
       "Cholesterol_Level        0\n",
       "Diabetic                 0\n",
       "Smoker                   0\n",
       "Exercise_Frequency       0\n",
       "Annual_Income_USD        0\n",
       "dtype: int64"
      ]
     },
     "execution_count": 3,
     "metadata": {},
     "output_type": "execute_result"
    }
   ],
   "source": [
    "df.isnull().sum()"
   ]
  },
  {
   "cell_type": "code",
   "execution_count": null,
   "metadata": {
    "colab": {
     "base_uri": "https://localhost:8080/",
     "height": 489
    },
    "executionInfo": {
     "elapsed": 9,
     "status": "ok",
     "timestamp": 1755450646170,
     "user": {
      "displayName": "SREERAG vs",
      "userId": "02446226393956372357"
     },
     "user_tz": -330
    },
    "id": "F0FjYtUR4HK7",
    "outputId": "26466ff8-d9fa-4bda-bc93-b347c3571d7b"
   },
   "outputs": [],
   "source": [
    "AgeProp = df['Age'].value_counts(normalize=True)\n",
    "AgeProp"
   ]
  },
  {
   "cell_type": "code",
   "execution_count": null,
   "metadata": {
    "executionInfo": {
     "elapsed": 6,
     "status": "ok",
     "timestamp": 1755450646180,
     "user": {
      "displayName": "SREERAG vs",
      "userId": "02446226393956372357"
     },
     "user_tz": -330
    },
    "id": "Mmw1wvfQ4TAh"
   },
   "outputs": [],
   "source": [
    "synthAge = np.random.choice(AgeProp.index, size=df['Age'].isnull().sum(), p=AgeProp.values)"
   ]
  },
  {
   "cell_type": "code",
   "execution_count": null,
   "metadata": {
    "executionInfo": {
     "elapsed": 116,
     "status": "ok",
     "timestamp": 1755450646300,
     "user": {
      "displayName": "SREERAG vs",
      "userId": "02446226393956372357"
     },
     "user_tz": -330
    },
    "id": "MaNptkMP4nzy"
   },
   "outputs": [],
   "source": [
    "df.loc[df['Age'].isnull(), 'Age'] = synthAge"
   ]
  },
  {
   "cell_type": "code",
   "execution_count": null,
   "metadata": {
    "colab": {
     "base_uri": "https://localhost:8080/"
    },
    "executionInfo": {
     "elapsed": 40,
     "status": "ok",
     "timestamp": 1755450646303,
     "user": {
      "displayName": "SREERAG vs",
      "userId": "02446226393956372357"
     },
     "user_tz": -330
    },
    "id": "oIFiyJeS4snm",
    "outputId": "5bbfbcb3-a562-4e86-8131-5f2b6cbe4050"
   },
   "outputs": [],
   "source": [
    "df['Age'].isnull().sum()"
   ]
  },
  {
   "cell_type": "code",
   "execution_count": null,
   "metadata": {
    "colab": {
     "base_uri": "https://localhost:8080/"
    },
    "executionInfo": {
     "elapsed": 26,
     "status": "ok",
     "timestamp": 1755450646307,
     "user": {
      "displayName": "SREERAG vs",
      "userId": "02446226393956372357"
     },
     "user_tz": -330
    },
    "id": "JbZ1WENl71Sd",
    "outputId": "353f00e3-05dc-4100-a353-3ce2b955712b"
   },
   "outputs": [],
   "source": [
    "df['Age'].dtype"
   ]
  },
  {
   "cell_type": "code",
   "execution_count": null,
   "metadata": {
    "executionInfo": {
     "elapsed": 6,
     "status": "ok",
     "timestamp": 1755450646315,
     "user": {
      "displayName": "SREERAG vs",
      "userId": "02446226393956372357"
     },
     "user_tz": -330
    },
    "id": "symy4hwL75iU"
   },
   "outputs": [],
   "source": [
    "df['Age'] = df['Age'].astype(int)"
   ]
  },
  {
   "cell_type": "code",
   "execution_count": null,
   "metadata": {
    "colab": {
     "base_uri": "https://localhost:8080/"
    },
    "executionInfo": {
     "elapsed": 28,
     "status": "ok",
     "timestamp": 1755450646432,
     "user": {
      "displayName": "SREERAG vs",
      "userId": "02446226393956372357"
     },
     "user_tz": -330
    },
    "id": "hJvSAi_w8A3T",
    "outputId": "2d673b1f-11e4-41a1-9f31-df1686e7eef1"
   },
   "outputs": [],
   "source": [
    "df['Age'].dtype"
   ]
  },
  {
   "cell_type": "code",
   "execution_count": null,
   "metadata": {
    "colab": {
     "base_uri": "https://localhost:8080/",
     "height": 335
    },
    "executionInfo": {
     "elapsed": 13,
     "status": "ok",
     "timestamp": 1755450646440,
     "user": {
      "displayName": "SREERAG vs",
      "userId": "02446226393956372357"
     },
     "user_tz": -330
    },
    "id": "UPZYp_824wE_",
    "outputId": "7a92337b-ab66-4553-88c1-835867b63ed7"
   },
   "outputs": [],
   "source": [
    "df['BMI'].describe()"
   ]
  },
  {
   "cell_type": "code",
   "execution_count": null,
   "metadata": {
    "colab": {
     "base_uri": "https://localhost:8080/"
    },
    "executionInfo": {
     "elapsed": 25,
     "status": "ok",
     "timestamp": 1755450646467,
     "user": {
      "displayName": "SREERAG vs",
      "userId": "02446226393956372357"
     },
     "user_tz": -330
    },
    "id": "ZDrSzzqF468u",
    "outputId": "b1a68c03-b640-4a5f-e80e-98c07f50dfe0"
   },
   "outputs": [],
   "source": [
    "medianBMI = df['BMI'].median()\n",
    "medianBMI = round(medianBMI, 2)\n",
    "medianBMI"
   ]
  },
  {
   "cell_type": "code",
   "execution_count": null,
   "metadata": {
    "executionInfo": {
     "elapsed": 6,
     "status": "ok",
     "timestamp": 1755450646480,
     "user": {
      "displayName": "SREERAG vs",
      "userId": "02446226393956372357"
     },
     "user_tz": -330
    },
    "id": "SGVrsEkh6FHv"
   },
   "outputs": [],
   "source": [
    "df['BMI']=df['BMI'].fillna(medianBMI)"
   ]
  },
  {
   "cell_type": "code",
   "execution_count": null,
   "metadata": {
    "colab": {
     "base_uri": "https://localhost:8080/"
    },
    "executionInfo": {
     "elapsed": 85,
     "status": "ok",
     "timestamp": 1755450646579,
     "user": {
      "displayName": "SREERAG vs",
      "userId": "02446226393956372357"
     },
     "user_tz": -330
    },
    "id": "Sbkjmofs6iyd",
    "outputId": "837600a9-420e-4a37-9b65-199c6fa8df91"
   },
   "outputs": [],
   "source": [
    "df['BMI'].isnull().sum()"
   ]
  },
  {
   "cell_type": "code",
   "execution_count": null,
   "metadata": {
    "colab": {
     "base_uri": "https://localhost:8080/",
     "height": 335
    },
    "executionInfo": {
     "elapsed": 179,
     "status": "ok",
     "timestamp": 1755450646749,
     "user": {
      "displayName": "SREERAG vs",
      "userId": "02446226393956372357"
     },
     "user_tz": -330
    },
    "id": "AAW5IZsB6yIF",
    "outputId": "5a040691-1fbf-4681-8c3a-9a2975429266"
   },
   "outputs": [],
   "source": [
    "df['BMI'].describe()"
   ]
  },
  {
   "cell_type": "code",
   "execution_count": null,
   "metadata": {
    "colab": {
     "base_uri": "https://localhost:8080/"
    },
    "executionInfo": {
     "elapsed": 89,
     "status": "ok",
     "timestamp": 1755450646751,
     "user": {
      "displayName": "SREERAG vs",
      "userId": "02446226393956372357"
     },
     "user_tz": -330
    },
    "id": "tbd8QRS36z1-",
    "outputId": "483c7c71-1c6a-4952-8325-973e22c4e007"
   },
   "outputs": [],
   "source": [
    "df['Continent'].unique()"
   ]
  },
  {
   "cell_type": "code",
   "execution_count": null,
   "metadata": {
    "colab": {
     "base_uri": "https://localhost:8080/",
     "height": 115
    },
    "executionInfo": {
     "elapsed": 20,
     "status": "ok",
     "timestamp": 1755450646755,
     "user": {
      "displayName": "SREERAG vs",
      "userId": "02446226393956372357"
     },
     "user_tz": -330
    },
    "id": "5cSeuhA87IZz",
    "outputId": "259d7f53-680b-4fc9-bbe3-ff4fde0f2697"
   },
   "outputs": [],
   "source": [
    "df['Continent'].mode()"
   ]
  },
  {
   "cell_type": "code",
   "execution_count": null,
   "metadata": {
    "colab": {
     "base_uri": "https://localhost:8080/",
     "height": 303
    },
    "executionInfo": {
     "elapsed": 8,
     "status": "ok",
     "timestamp": 1755450646765,
     "user": {
      "displayName": "SREERAG vs",
      "userId": "02446226393956372357"
     },
     "user_tz": -330
    },
    "id": "s0FbOG3d7Ls4",
    "outputId": "50096807-7ed9-4eed-d7ed-e4266add6927"
   },
   "outputs": [],
   "source": [
    "df['Continent'].value_counts()"
   ]
  },
  {
   "cell_type": "code",
   "execution_count": null,
   "metadata": {
    "executionInfo": {
     "elapsed": 6,
     "status": "ok",
     "timestamp": 1755450646774,
     "user": {
      "displayName": "SREERAG vs",
      "userId": "02446226393956372357"
     },
     "user_tz": -330
    },
    "id": "Zdz1qNFH7Q7s"
   },
   "outputs": [],
   "source": [
    "df['Continent'] = df['Continent'].ffill()"
   ]
  },
  {
   "cell_type": "code",
   "execution_count": null,
   "metadata": {
    "colab": {
     "base_uri": "https://localhost:8080/"
    },
    "executionInfo": {
     "elapsed": 23,
     "status": "ok",
     "timestamp": 1755450646801,
     "user": {
      "displayName": "SREERAG vs",
      "userId": "02446226393956372357"
     },
     "user_tz": -330
    },
    "id": "9648QAIc7iLf",
    "outputId": "32398817-eb24-488c-b296-bc8693ead50c"
   },
   "outputs": [],
   "source": [
    "df['Continent'].isnull().sum()"
   ]
  },
  {
   "cell_type": "code",
   "execution_count": null,
   "metadata": {
    "colab": {
     "base_uri": "https://localhost:8080/",
     "height": 429
    },
    "executionInfo": {
     "elapsed": 27,
     "status": "ok",
     "timestamp": 1755450646833,
     "user": {
      "displayName": "SREERAG vs",
      "userId": "02446226393956372357"
     },
     "user_tz": -330
    },
    "id": "HfFDTPr-7n04",
    "outputId": "cc651c31-218f-40da-acc5-d977375b4743"
   },
   "outputs": [],
   "source": [
    "df.isnull().sum()"
   ]
  },
  {
   "cell_type": "code",
   "execution_count": null,
   "metadata": {
    "colab": {
     "base_uri": "https://localhost:8080/",
     "height": 300
    },
    "executionInfo": {
     "elapsed": 139,
     "status": "ok",
     "timestamp": 1755450646966,
     "user": {
      "displayName": "SREERAG vs",
      "userId": "02446226393956372357"
     },
     "user_tz": -330
    },
    "id": "I3p9-FEZ7sAZ",
    "outputId": "6e6b53cf-39f7-4b98-caca-147dce5860c3"
   },
   "outputs": [],
   "source": [
    "df.describe()"
   ]
  },
  {
   "cell_type": "code",
   "execution_count": null,
   "metadata": {
    "colab": {
     "base_uri": "https://localhost:8080/",
     "height": 429
    },
    "executionInfo": {
     "elapsed": 49,
     "status": "ok",
     "timestamp": 1755450647012,
     "user": {
      "displayName": "SREERAG vs",
      "userId": "02446226393956372357"
     },
     "user_tz": -330
    },
    "id": "4MUNqLid9bxP",
    "outputId": "450a122e-bce9-4ae8-b901-c7a4203f8d5e"
   },
   "outputs": [],
   "source": [
    "df.dtypes"
   ]
  },
  {
   "cell_type": "code",
   "execution_count": null,
   "metadata": {
    "colab": {
     "base_uri": "https://localhost:8080/"
    },
    "executionInfo": {
     "elapsed": 40,
     "status": "ok",
     "timestamp": 1755450647016,
     "user": {
      "displayName": "SREERAG vs",
      "userId": "02446226393956372357"
     },
     "user_tz": -330
    },
    "id": "MfTCAU9j-liV",
    "outputId": "a81b7504-46fc-48c3-cefe-863a40645dd4"
   },
   "outputs": [],
   "source": [
    "df.columns"
   ]
  },
  {
   "cell_type": "code",
   "execution_count": null,
   "metadata": {
    "executionInfo": {
     "elapsed": 114,
     "status": "ok",
     "timestamp": 1755450647124,
     "user": {
      "displayName": "SREERAG vs",
      "userId": "02446226393956372357"
     },
     "user_tz": -330
    },
    "id": "iRhzgL-h-erp"
   },
   "outputs": [],
   "source": [
    "categorical_columns = ['Continent','Cholesterol_Level', 'Diabetic', 'Smoker', 'Exercise_Frequency']"
   ]
  },
  {
   "cell_type": "code",
   "execution_count": null,
   "metadata": {
    "executionInfo": {
     "elapsed": 16,
     "status": "ok",
     "timestamp": 1755450647127,
     "user": {
      "displayName": "SREERAG vs",
      "userId": "02446226393956372357"
     },
     "user_tz": -330
    },
    "id": "RqeNl94m-1F2"
   },
   "outputs": [],
   "source": [
    "numeric_columns = ['Age', 'Height_cm', 'Weight_kg', 'BMI', 'Blood_Pressure', 'Annual_Income_USD']"
   ]
  },
  {
   "cell_type": "markdown",
   "metadata": {
    "id": "TwqMYyzv_A0n"
   },
   "source": [
    "# Univariate Analysis on Categorical Columns"
   ]
  },
  {
   "cell_type": "code",
   "execution_count": null,
   "metadata": {
    "colab": {
     "base_uri": "https://localhost:8080/",
     "height": 449
    },
    "executionInfo": {
     "elapsed": 157,
     "status": "ok",
     "timestamp": 1755450647274,
     "user": {
      "displayName": "SREERAG vs",
      "userId": "02446226393956372357"
     },
     "user_tz": -330
    },
    "id": "IgJyfu1h-9ua",
    "outputId": "4e205304-c1c1-4feb-f248-ee8a26924e47"
   },
   "outputs": [],
   "source": [
    "# Continent\n",
    "\n",
    "sns.countplot(df['Continent'], color = 'brown')\n",
    "plt.gcf().set_facecolor('lightgrey')\n",
    "plt.gca().set_facecolor('lightblue')\n",
    "plt.show()"
   ]
  },
  {
   "cell_type": "code",
   "execution_count": null,
   "metadata": {
    "colab": {
     "base_uri": "https://localhost:8080/",
     "height": 449
    },
    "executionInfo": {
     "elapsed": 339,
     "status": "ok",
     "timestamp": 1755450647614,
     "user": {
      "displayName": "SREERAG vs",
      "userId": "02446226393956372357"
     },
     "user_tz": -330
    },
    "id": "mCgqoP_X_Zbs",
    "outputId": "8596ffd2-79b3-48ab-dc04-6e5eb1c45414"
   },
   "outputs": [],
   "source": [
    "# Cholesterol_Level\n",
    "\n",
    "sns.countplot(df['Cholesterol_Level'], color = 'brown')\n",
    "plt.gcf().set_facecolor('lightgrey')\n",
    "plt.gca().set_facecolor('lightblue')\n",
    "plt.show()"
   ]
  },
  {
   "cell_type": "code",
   "execution_count": null,
   "metadata": {
    "colab": {
     "base_uri": "https://localhost:8080/",
     "height": 209
    },
    "executionInfo": {
     "elapsed": 18,
     "status": "ok",
     "timestamp": 1755450647627,
     "user": {
      "displayName": "SREERAG vs",
      "userId": "02446226393956372357"
     },
     "user_tz": -330
    },
    "id": "wZ96Qn65_rie",
    "outputId": "00aefb15-c0f4-4e3b-9010-000a7147896a"
   },
   "outputs": [],
   "source": [
    "colestrol_lev = df['Cholesterol_Level'].value_counts(normalize=True)\n",
    "colestrol_lev"
   ]
  },
  {
   "cell_type": "code",
   "execution_count": null,
   "metadata": {
    "colab": {
     "base_uri": "https://localhost:8080/",
     "height": 428
    },
    "executionInfo": {
     "elapsed": 154,
     "status": "ok",
     "timestamp": 1755450647782,
     "user": {
      "displayName": "SREERAG vs",
      "userId": "02446226393956372357"
     },
     "user_tz": -330
    },
    "id": "fcf13l_j_4A9",
    "outputId": "786ba6e6-73fc-4095-e7c9-01e2daab41a1"
   },
   "outputs": [],
   "source": [
    "plt.pie(colestrol_lev, labels=colestrol_lev.index, autopct='%1.1f%%')\n",
    "plt.title('Cholesterol Level in our dataset')\n",
    "plt.gcf().set_facecolor('lightgrey')\n",
    "plt.show()"
   ]
  },
  {
   "cell_type": "code",
   "execution_count": null,
   "metadata": {
    "colab": {
     "base_uri": "https://localhost:8080/",
     "height": 449
    },
    "executionInfo": {
     "elapsed": 539,
     "status": "ok",
     "timestamp": 1755450648325,
     "user": {
      "displayName": "SREERAG vs",
      "userId": "02446226393956372357"
     },
     "user_tz": -330
    },
    "id": "r9ab4uIEAWC7",
    "outputId": "50cf1f22-f87b-4ecf-b41b-d1bc39fc5b5d"
   },
   "outputs": [],
   "source": [
    "sns.countplot(df['Diabetic'], color = 'brown')\n",
    "plt.gcf().set_facecolor('lightgrey')\n",
    "plt.gca().set_facecolor('lightblue')\n",
    "plt.show()"
   ]
  },
  {
   "cell_type": "code",
   "execution_count": null,
   "metadata": {
    "colab": {
     "base_uri": "https://localhost:8080/",
     "height": 449
    },
    "executionInfo": {
     "elapsed": 674,
     "status": "ok",
     "timestamp": 1755450648993,
     "user": {
      "displayName": "SREERAG vs",
      "userId": "02446226393956372357"
     },
     "user_tz": -330
    },
    "id": "9XrUmyo3Daoj",
    "outputId": "15b21447-0a12-4a96-dd19-ed1cfe52f3cf"
   },
   "outputs": [],
   "source": [
    "sns.countplot(df['Smoker'], color = 'brown')\n",
    "plt.gcf().set_facecolor('lightgrey')\n",
    "plt.gca().set_facecolor('lightblue')\n",
    "plt.show()\n",
    "plt.show()"
   ]
  },
  {
   "cell_type": "code",
   "execution_count": null,
   "metadata": {
    "colab": {
     "base_uri": "https://localhost:8080/",
     "height": 449
    },
    "executionInfo": {
     "elapsed": 538,
     "status": "ok",
     "timestamp": 1755450649552,
     "user": {
      "displayName": "SREERAG vs",
      "userId": "02446226393956372357"
     },
     "user_tz": -330
    },
    "id": "aTU56AMFDmcx",
    "outputId": "5d099386-8b4a-47a2-f4f5-c96eed3e5af4"
   },
   "outputs": [],
   "source": [
    "sns.countplot(df['Exercise_Frequency'], color = 'brown')\n",
    "plt.gcf().set_facecolor('lightgrey')\n",
    "plt.gca().set_facecolor('lightblue')\n",
    "plt.show()"
   ]
  },
  {
   "cell_type": "markdown",
   "metadata": {
    "id": "-hParb3eEuxr"
   },
   "source": [
    "# Univariate Analysis on Numeric Columns"
   ]
  },
  {
   "cell_type": "code",
   "execution_count": null,
   "metadata": {
    "colab": {
     "base_uri": "https://localhost:8080/"
    },
    "executionInfo": {
     "elapsed": 45,
     "status": "ok",
     "timestamp": 1755450649668,
     "user": {
      "displayName": "SREERAG vs",
      "userId": "02446226393956372357"
     },
     "user_tz": -330
    },
    "id": "weYm-9obDvNr",
    "outputId": "8483910b-7209-4bc3-89e4-1808fcce774d"
   },
   "outputs": [],
   "source": [
    "numeric_columns"
   ]
  },
  {
   "cell_type": "code",
   "execution_count": null,
   "metadata": {
    "colab": {
     "base_uri": "https://localhost:8080/",
     "height": 449
    },
    "executionInfo": {
     "elapsed": 698,
     "status": "ok",
     "timestamp": 1755450650377,
     "user": {
      "displayName": "SREERAG vs",
      "userId": "02446226393956372357"
     },
     "user_tz": -330
    },
    "id": "uPfyLuVVE2qw",
    "outputId": "72eabd17-538b-46eb-bbfe-bb7689426c26"
   },
   "outputs": [],
   "source": [
    "# Age\n",
    "\n",
    "sns.histplot(df['Age'], color = 'brown', kde = True, bins=10)\n",
    "plt.gcf().set_facecolor('lightgrey')\n",
    "plt.gca().set_facecolor('lightblue')\n",
    "plt.show()"
   ]
  },
  {
   "cell_type": "code",
   "execution_count": null,
   "metadata": {
    "colab": {
     "base_uri": "https://localhost:8080/",
     "height": 450
    },
    "executionInfo": {
     "elapsed": 999,
     "status": "ok",
     "timestamp": 1755450651383,
     "user": {
      "displayName": "SREERAG vs",
      "userId": "02446226393956372357"
     },
     "user_tz": -330
    },
    "id": "JoJLGUxrFAQj",
    "outputId": "b8438c35-07e0-47eb-d1e2-4225f29ccea4"
   },
   "outputs": [],
   "source": [
    "# Height\n",
    "\n",
    "sns.histplot(df['Height_cm'], color = 'brown', kde=True)\n",
    "plt.gcf().set_facecolor('lightgrey')\n",
    "plt.gca().set_facecolor('lightblue')\n",
    "plt.show()"
   ]
  },
  {
   "cell_type": "code",
   "execution_count": null,
   "metadata": {
    "colab": {
     "base_uri": "https://localhost:8080/",
     "height": 450
    },
    "executionInfo": {
     "elapsed": 804,
     "status": "ok",
     "timestamp": 1755450652197,
     "user": {
      "displayName": "SREERAG vs",
      "userId": "02446226393956372357"
     },
     "user_tz": -330
    },
    "id": "e0_Czt2ZFSId",
    "outputId": "709994ec-33cf-4cbb-9ac4-41e2b45a1256"
   },
   "outputs": [],
   "source": [
    "# Weight_kg\n",
    "sns.histplot(df['Weight_kg'], color = 'brown', kde=True)\n",
    "plt.gcf().set_facecolor('lightgrey')\n",
    "plt.gca().set_facecolor('lightblue')\n",
    "plt.show()"
   ]
  },
  {
   "cell_type": "code",
   "execution_count": null,
   "metadata": {
    "colab": {
     "base_uri": "https://localhost:8080/",
     "height": 449
    },
    "executionInfo": {
     "elapsed": 309,
     "status": "ok",
     "timestamp": 1755450652502,
     "user": {
      "displayName": "SREERAG vs",
      "userId": "02446226393956372357"
     },
     "user_tz": -330
    },
    "id": "vhLbFjM8Fo2M",
    "outputId": "58360d10-71cb-4767-f745-899bcf218cd2"
   },
   "outputs": [],
   "source": [
    "# BMI\n",
    "\n",
    "sns.histplot(df['BMI'], color = 'brown', kde=True, bins=15)\n",
    "plt.gcf().set_facecolor('lightgrey')\n",
    "plt.gca().set_facecolor('lightblue')\n",
    "plt.show()"
   ]
  },
  {
   "cell_type": "code",
   "execution_count": null,
   "metadata": {
    "colab": {
     "base_uri": "https://localhost:8080/",
     "height": 450
    },
    "executionInfo": {
     "elapsed": 486,
     "status": "ok",
     "timestamp": 1755450652999,
     "user": {
      "displayName": "SREERAG vs",
      "userId": "02446226393956372357"
     },
     "user_tz": -330
    },
    "id": "MLUX35KSFxP2",
    "outputId": "c0d3a3a5-bc2c-45c3-9923-ea1f5312f791"
   },
   "outputs": [],
   "source": [
    "# Blood_Pressure\n",
    "sns.histplot(df['Blood_Pressure'], color = 'brown', kde=True)\n",
    "plt.gcf().set_facecolor('lightgrey')\n",
    "plt.gca().set_facecolor('lightblue')\n",
    "plt.show()\n",
    "#"
   ]
  },
  {
   "cell_type": "code",
   "execution_count": null,
   "metadata": {
    "colab": {
     "base_uri": "https://localhost:8080/",
     "height": 465
    },
    "executionInfo": {
     "elapsed": 450,
     "status": "ok",
     "timestamp": 1755450653458,
     "user": {
      "displayName": "SREERAG vs",
      "userId": "02446226393956372357"
     },
     "user_tz": -330
    },
    "id": "0sQPsVQuGEvs",
    "outputId": "391df9bc-0134-47e2-f16d-2ba72b87f94d"
   },
   "outputs": [],
   "source": [
    "# Annual_Income_USD\n",
    "sns.kdeplot(df['Annual_Income_USD'], color = 'brown')\n",
    "plt.gcf().set_facecolor('lightgrey')\n",
    "plt.gca().set_facecolor('lightblue')\n",
    "plt.show()\n",
    "#"
   ]
  },
  {
   "cell_type": "markdown",
   "metadata": {
    "id": "5CvQjtRDGrHU"
   },
   "source": [
    "# Outliers\n"
   ]
  },
  {
   "cell_type": "code",
   "execution_count": null,
   "metadata": {
    "colab": {
     "base_uri": "https://localhost:8080/"
    },
    "executionInfo": {
     "elapsed": 20,
     "status": "ok",
     "timestamp": 1755450653482,
     "user": {
      "displayName": "SREERAG vs",
      "userId": "02446226393956372357"
     },
     "user_tz": -330
    },
    "id": "tAfWScrQGQUg",
    "outputId": "6a954fdf-4885-4e8d-db6b-75de6d4c06d2"
   },
   "outputs": [],
   "source": [
    "numeric_columns"
   ]
  },
  {
   "cell_type": "code",
   "execution_count": null,
   "metadata": {
    "colab": {
     "base_uri": "https://localhost:8080/",
     "height": 1000
    },
    "executionInfo": {
     "elapsed": 1665,
     "status": "ok",
     "timestamp": 1755450655150,
     "user": {
      "displayName": "SREERAG vs",
      "userId": "02446226393956372357"
     },
     "user_tz": -330
    },
    "id": "0kNYEtbKGy1N",
    "outputId": "d75afca4-a19d-4a06-976d-86d27c32b78c"
   },
   "outputs": [],
   "source": [
    "for col in numeric_columns:\n",
    "    plt.boxplot(\n",
    "        df[col],\n",
    "        boxprops=dict(color='brown'),\n",
    "        medianprops=dict(color='brown'),\n",
    "        flierprops=dict(color='brown', marker='o'),  # valid marker\n",
    "        showmeans=True\n",
    "    )\n",
    "    plt.title(col, fontsize=20)\n",
    "    plt.gcf().set_facecolor('lightgrey')\n",
    "    plt.gca().set_facecolor('lightblue')\n",
    "    plt.tight_layout()\n",
    "    plt.show()\n"
   ]
  },
  {
   "cell_type": "code",
   "execution_count": null,
   "metadata": {
    "colab": {
     "base_uri": "https://localhost:8080/",
     "height": 112
    },
    "executionInfo": {
     "elapsed": 165,
     "status": "ok",
     "timestamp": 1755450655341,
     "user": {
      "displayName": "SREERAG vs",
      "userId": "02446226393956372357"
     },
     "user_tz": -330
    },
    "id": "OEGFXLd2G406",
    "outputId": "14e23fe7-d5ea-416d-e4b1-dbc43ef66ee9"
   },
   "outputs": [],
   "source": [
    "df.head(2)"
   ]
  },
  {
   "cell_type": "markdown",
   "metadata": {
    "id": "h_mY3mhwI96V"
   },
   "source": [
    "### Created a new Dataframe for analysing only Diabetic patients"
   ]
  },
  {
   "cell_type": "code",
   "execution_count": null,
   "metadata": {
    "colab": {
     "base_uri": "https://localhost:8080/",
     "height": 112
    },
    "executionInfo": {
     "elapsed": 90,
     "status": "ok",
     "timestamp": 1755450655434,
     "user": {
      "displayName": "SREERAG vs",
      "userId": "02446226393956372357"
     },
     "user_tz": -330
    },
    "id": "NWh-Ts6gI22L",
    "outputId": "a7a77d43-0a1d-4e79-ca50-fd5128c0214a"
   },
   "outputs": [],
   "source": [
    "# people having Diabetic and relationship with Cholesterol_Level\n",
    "\n",
    "diabeticDF = df[df['Diabetic']=='Yes']\n",
    "diabeticDF.reset_index(drop=True, inplace=True)\n",
    "diabeticDF.head(2)"
   ]
  },
  {
   "cell_type": "code",
   "execution_count": null,
   "metadata": {
    "colab": {
     "base_uri": "https://localhost:8080/",
     "height": 449
    },
    "executionInfo": {
     "elapsed": 557,
     "status": "ok",
     "timestamp": 1755450655996,
     "user": {
      "displayName": "SREERAG vs",
      "userId": "02446226393956372357"
     },
     "user_tz": -330
    },
    "id": "MZNEoL0gJSa_",
    "outputId": "bf2d9f10-dc6b-4ba0-892f-35f456ef79c0"
   },
   "outputs": [],
   "source": [
    "sns.countplot(diabeticDF['Cholesterol_Level'], color = 'brown')\n",
    "plt.gcf().set_facecolor('lightgrey')\n",
    "plt.gca().set_facecolor('lightblue')\n",
    "plt.show()"
   ]
  },
  {
   "cell_type": "code",
   "execution_count": null,
   "metadata": {
    "colab": {
     "base_uri": "https://localhost:8080/",
     "height": 449
    },
    "executionInfo": {
     "elapsed": 91,
     "status": "ok",
     "timestamp": 1755450656091,
     "user": {
      "displayName": "SREERAG vs",
      "userId": "02446226393956372357"
     },
     "user_tz": -330
    },
    "id": "cno8jcNjJmFG",
    "outputId": "fef421f7-f5a7-426d-a936-dbafb9df43fa"
   },
   "outputs": [],
   "source": [
    "# people having Diabetic and relationship with Smoking habit\n",
    "\n",
    "sns.countplot(diabeticDF['Smoker'], color = 'brown')\n",
    "plt.gcf().set_facecolor('lightgrey')\n",
    "plt.gca().set_facecolor('lightblue')\n",
    "plt.show()"
   ]
  },
  {
   "cell_type": "code",
   "execution_count": null,
   "metadata": {
    "colab": {
     "base_uri": "https://localhost:8080/",
     "height": 449
    },
    "executionInfo": {
     "elapsed": 985,
     "status": "ok",
     "timestamp": 1755450657082,
     "user": {
      "displayName": "SREERAG vs",
      "userId": "02446226393956372357"
     },
     "user_tz": -330
    },
    "id": "6wbn8N7xKaE9",
    "outputId": "79e5b8ac-ecd7-4714-dcd6-da606b762053"
   },
   "outputs": [],
   "source": [
    "sns.countplot(x='Diabetic', hue='Smoker', data=df)\n",
    "plt.gcf().set_facecolor('lightgrey')\n",
    "plt.gca().set_facecolor('lightblue')\n",
    "plt.show()\n"
   ]
  },
  {
   "cell_type": "markdown",
   "metadata": {},
   "source": [
    "### Ratio of diabetic people in all smoking people and diabetic in whole non smoking"
   ]
  },
  {
   "cell_type": "code",
   "execution_count": null,
   "metadata": {
    "colab": {
     "base_uri": "https://localhost:8080/"
    },
    "executionInfo": {
     "elapsed": 21,
     "status": "ok",
     "timestamp": 1755450657112,
     "user": {
      "displayName": "SREERAG vs",
      "userId": "02446226393956372357"
     },
     "user_tz": -330
    },
    "id": "UEWk4RBzrDGh",
    "outputId": "a756a29a-db9f-4fdc-e8de-bbe0812f820e"
   },
   "outputs": [],
   "source": [
    "diabetic_smokers = df[(df['Diabetic'] == 'Yes') & (df['Smoker'] == 'Yes')].shape[0]\n",
    "\n",
    "all_smokers = df[df['Smoker'] == 'Yes'].shape[0]\n",
    "\n",
    "# Calculate ratio of diabetic smokers\n",
    "ratio_diabetic_smokers = diabetic_smokers / all_smokers\n",
    "\n",
    "\n",
    "print(f\"Ratio of diabetic people among smokers: {ratio_diabetic_smokers:.2f}\")"
   ]
  },
  {
   "cell_type": "code",
   "execution_count": null,
   "metadata": {
    "colab": {
     "base_uri": "https://localhost:8080/"
    },
    "executionInfo": {
     "elapsed": 24,
     "status": "ok",
     "timestamp": 1755450657142,
     "user": {
      "displayName": "SREERAG vs",
      "userId": "02446226393956372357"
     },
     "user_tz": -330
    },
    "id": "iePkcdGorRb4",
    "outputId": "e26b1a19-5447-46b1-b9ca-2631e079a857"
   },
   "outputs": [],
   "source": [
    "# Count diabetic non-smokers\n",
    "diabetic_non_smokers = df[(df['Diabetic'] == 'Yes') & (df['Smoker'] == 'No')].shape[0]\n",
    "\n",
    "all_non_smokers = df[df['Smoker'] == 'No'].shape[0]\n",
    "ratio_diabetic_non_smokers = diabetic_non_smokers / all_non_smokers if all_non_smokers > 0 else 0\n",
    "print(f\"Ratio of diabetic people among non-smokers: {ratio_diabetic_non_smokers:.2f}\")"
   ]
  },
  {
   "cell_type": "code",
   "execution_count": null,
   "metadata": {
    "colab": {
     "base_uri": "https://localhost:8080/",
     "height": 449
    },
    "executionInfo": {
     "elapsed": 302,
     "status": "ok",
     "timestamp": 1755450657447,
     "user": {
      "displayName": "SREERAG vs",
      "userId": "02446226393956372357"
     },
     "user_tz": -330
    },
    "id": "JZWNjqvtJzoS",
    "outputId": "35db9797-f5d7-4a9a-e884-6cd350dffd54"
   },
   "outputs": [],
   "source": [
    "sns.countplot(diabeticDF['Exercise_Frequency'], color = 'brown')\n",
    "plt.gcf().set_facecolor('lightgrey')\n",
    "plt.gca().set_facecolor('lightblue')\n",
    "plt.show()"
   ]
  },
  {
   "cell_type": "code",
   "execution_count": null,
   "metadata": {
    "colab": {
     "base_uri": "https://localhost:8080/",
     "height": 112
    },
    "executionInfo": {
     "elapsed": 190,
     "status": "ok",
     "timestamp": 1755450657641,
     "user": {
      "displayName": "SREERAG vs",
      "userId": "02446226393956372357"
     },
     "user_tz": -330
    },
    "id": "wv-4HgbP8qxh",
    "outputId": "f3107182-2f04-4fc0-cd91-d609763ac2b5"
   },
   "outputs": [],
   "source": [
    "# Relationship between Age and Diabetic\n",
    "\n",
    "NondiabeticDF = df[df['Diabetic']=='No']\n",
    "NondiabeticDF.reset_index(drop=True, inplace=True)\n",
    "NondiabeticDF.head(2)"
   ]
  },
  {
   "cell_type": "code",
   "execution_count": null,
   "metadata": {
    "colab": {
     "base_uri": "https://localhost:8080/",
     "height": 487
    },
    "executionInfo": {
     "elapsed": 368,
     "status": "ok",
     "timestamp": 1755450658013,
     "user": {
      "displayName": "SREERAG vs",
      "userId": "02446226393956372357"
     },
     "user_tz": -330
    },
    "id": "nObJPozCwHCm",
    "outputId": "ef0dc0b7-4c40-4cb1-ab95-59ddb865cc74"
   },
   "outputs": [],
   "source": [
    "plt.subplot(1,2,1)\n",
    "sns.histplot(x=diabeticDF['Blood_Pressure'], color='green', label='Diabetic', bins=10)\n",
    "plt.xlabel(\"BP\")\n",
    "plt.ylabel(\"Freequency\")\n",
    "plt.gca().set_facecolor('lightblue')\n",
    "plt.legend()\n",
    "\n",
    "plt.subplot(1,2,2)\n",
    "sns.histplot(x=NondiabeticDF['Blood_Pressure'], color='brown', label='Non-diabetic', bins=10)\n",
    "plt.xlabel(\"BP\")\n",
    "plt.ylabel(\"Freequency\")\n",
    "plt.gca().set_facecolor('lightblue')\n",
    "plt.legend()\n",
    "plt.tight_layout()\n",
    "plt.show()"
   ]
  },
  {
   "cell_type": "markdown",
   "metadata": {
    "id": "fVSJuJyCwxw3"
   },
   "source": [
    "High Blood Pressure (Hypertension):\n",
    "\n",
    "Stage 1: 130-139/80-89 mm Hg.\n",
    "\n",
    "Stage 2: 140/90 mm Hg or higher.\n",
    "\n",
    "Low Blood Pressure:  less than 90 mmHg"
   ]
  },
  {
   "cell_type": "markdown",
   "metadata": {
    "id": "L7mBDblmr_Dz"
   },
   "source": [
    "# Relationship between Age and Diabetic"
   ]
  },
  {
   "cell_type": "code",
   "execution_count": null,
   "metadata": {
    "colab": {
     "base_uri": "https://localhost:8080/",
     "height": 112
    },
    "executionInfo": {
     "elapsed": 11,
     "status": "ok",
     "timestamp": 1755450658019,
     "user": {
      "displayName": "SREERAG vs",
      "userId": "02446226393956372357"
     },
     "user_tz": -330
    },
    "id": "jyHdVnPtKXgS",
    "outputId": "c1167000-8ec5-4280-8d6c-08f59d40baf6"
   },
   "outputs": [],
   "source": [
    "# Relationship between Age and Diabetic\n",
    "\n",
    "NondiabeticDF = df[df['Diabetic']=='No']\n",
    "NondiabeticDF.reset_index(drop=True, inplace=True)\n",
    "NondiabeticDF.head(2)"
   ]
  },
  {
   "cell_type": "code",
   "execution_count": null,
   "metadata": {
    "colab": {
     "base_uri": "https://localhost:8080/",
     "height": 619
    },
    "executionInfo": {
     "elapsed": 372,
     "status": "ok",
     "timestamp": 1755450658396,
     "user": {
      "displayName": "SREERAG vs",
      "userId": "02446226393956372357"
     },
     "user_tz": -330
    },
    "id": "uOdbtwkDr8EK",
    "outputId": "0381cfdd-4be8-48f5-94dc-1249f74d550f"
   },
   "outputs": [],
   "source": [
    "plt.figure(figsize=(15,7))\n",
    "plt.gcf().set_facecolor('lightgrey')\n",
    "\n",
    "plt.subplot(2,1,1)\n",
    "sns.histplot(x=NondiabeticDF['Age'], color='brown', label='Non-diabetic', bins=20)\n",
    "plt.xlabel(\"Age\")\n",
    "plt.ylabel(\"Freequency\")\n",
    "plt.gca().set_facecolor('lightblue')\n",
    "plt.legend()\n",
    "\n",
    "\n",
    "plt.subplot(2,1,2)\n",
    "sns.histplot(x=diabeticDF['Age'], color='green', label='Diabetic', bins=20)\n",
    "plt.xlabel(\"Age\")\n",
    "plt.ylabel(\"Freequency\")\n",
    "plt.gca().set_facecolor('lightblue')\n",
    "plt.legend()\n",
    "\n",
    "plt.show()\n"
   ]
  },
  {
   "cell_type": "markdown",
   "metadata": {
    "id": "OeMWc-LNx7VV"
   },
   "source": []
  },
  {
   "cell_type": "code",
   "execution_count": null,
   "metadata": {
    "colab": {
     "base_uri": "https://localhost:8080/",
     "height": 619
    },
    "executionInfo": {
     "elapsed": 356,
     "status": "ok",
     "timestamp": 1755450658756,
     "user": {
      "displayName": "SREERAG vs",
      "userId": "02446226393956372357"
     },
     "user_tz": -330
    },
    "id": "qzJluIna0gKr",
    "outputId": "3510fe9f-bf24-453f-cb01-c1486f8e2921"
   },
   "outputs": [],
   "source": [
    "plt.figure(figsize=(15,7))\n",
    "plt.gcf().set_facecolor('lightgrey')\n",
    "\n",
    "plt.subplot(2,1,1)\n",
    "sns.histplot(x=NondiabeticDF['Blood_Pressure'], color='brown', label='Non-diabetic', bins=20)\n",
    "plt.xlabel(\"BP\")\n",
    "plt.ylabel(\"Freequency\")\n",
    "plt.gca().set_facecolor('lightblue')\n",
    "plt.legend()\n",
    "\n",
    "\n",
    "plt.subplot(2,1,2)\n",
    "sns.histplot(x=diabeticDF['Blood_Pressure'], color='green', label='Diabetic', bins=20)\n",
    "plt.xlabel(\"BP\")\n",
    "plt.ylabel(\"Freequency\")\n",
    "plt.gca().set_facecolor('lightblue')\n",
    "plt.legend()\n",
    "\n",
    "plt.show()\n"
   ]
  },
  {
   "cell_type": "code",
   "execution_count": null,
   "metadata": {
    "colab": {
     "base_uri": "https://localhost:8080/",
     "height": 950
    },
    "executionInfo": {
     "elapsed": 921,
     "status": "ok",
     "timestamp": 1755450659681,
     "user": {
      "displayName": "SREERAG vs",
      "userId": "02446226393956372357"
     },
     "user_tz": -330
    },
    "id": "dPdOgpAasWiw",
    "outputId": "7b1505a8-9e27-4921-a897-f2410468b235"
   },
   "outputs": [],
   "source": [
    "\n",
    "plt.figure(figsize=(12,10))\n",
    "plt.gcf().set_facecolor('lightblue')\n",
    "plt.subplot(3,1,1)\n",
    "sns.scatterplot(x=diabeticDF['Blood_Pressure'], y=diabeticDF['Annual_Income_USD'], hue=diabeticDF['Cholesterol_Level'])\n",
    "plt.xlabel(\"Age\")\n",
    "plt.ylabel(\"Annual Income USD\")\n",
    "plt.gca().set_facecolor('lightgrey')\n",
    "plt.legend()\n",
    "\n",
    "plt.subplot(3,1,2)\n",
    "sns.countplot(x=diabeticDF['Cholesterol_Level'],  hue= diabeticDF['Cholesterol_Level'])\n",
    "plt.gca().set_facecolor('lightgrey')\n",
    "\n",
    "plt.subplot(3,1,3)\n",
    "sns.histplot(x=diabeticDF['Annual_Income_USD'])\n",
    "plt.gca().set_facecolor('lightgrey')\n",
    "\n",
    "\n",
    "plt.suptitle('Diabetic People Income levels, Age, Cholesterol Levels', fontsize=20)\n",
    "plt.show()\n"
   ]
  },
  {
   "cell_type": "code",
   "execution_count": null,
   "metadata": {
    "colab": {
     "base_uri": "https://localhost:8080/",
     "height": 112
    },
    "executionInfo": {
     "elapsed": 85,
     "status": "ok",
     "timestamp": 1755450659775,
     "user": {
      "displayName": "SREERAG vs",
      "userId": "02446226393956372357"
     },
     "user_tz": -330
    },
    "id": "VQi3P4qBuY08",
    "outputId": "f86fbb2b-0137-49d7-9e59-f4a07fc6bbaf"
   },
   "outputs": [],
   "source": [
    "smokers = df.loc[(df['Diabetic']=='Yes') & (df['Smoker']=='Yes')]\n",
    "smokers.reset_index(drop=True, inplace=True)\n",
    "smokers = smokers.sort_values(by='Age')\n",
    "smokers.reset_index(drop=True, inplace=True)\n",
    "smokers.head(2)"
   ]
  },
  {
   "cell_type": "code",
   "execution_count": null,
   "metadata": {
    "colab": {
     "base_uri": "https://localhost:8080/",
     "height": 449
    },
    "executionInfo": {
     "elapsed": 100,
     "status": "ok",
     "timestamp": 1755450659892,
     "user": {
      "displayName": "SREERAG vs",
      "userId": "02446226393956372357"
     },
     "user_tz": -330
    },
    "id": "U1LKqpCS52tT",
    "outputId": "da4e588e-319a-4839-cd3e-8720529a3906"
   },
   "outputs": [],
   "source": [
    "sns.histplot(smokers['Age'], bins=15)\n",
    "plt.show()"
   ]
  },
  {
   "cell_type": "markdown",
   "metadata": {},
   "source": [
    "# Bivariate Analysis"
   ]
  },
  {
   "cell_type": "code",
   "execution_count": null,
   "metadata": {
    "colab": {
     "base_uri": "https://localhost:8080/",
     "height": 449
    },
    "executionInfo": {
     "elapsed": 122,
     "status": "ok",
     "timestamp": 1755450660011,
     "user": {
      "displayName": "SREERAG vs",
      "userId": "02446226393956372357"
     },
     "user_tz": -330
    },
    "id": "6Jl9iqA16tNl",
    "outputId": "da9f1a93-d1c5-451c-c6fa-1daeb33fb58b"
   },
   "outputs": [],
   "source": [
    "# BMI and Blood_Pressure\n",
    "\n",
    "sns.scatterplot(x=smokers['BMI'], y=smokers['Blood_Pressure'])\n",
    "plt.xlabel('BMI')\n",
    "plt.ylabel('Blood Pressure')\n",
    "plt.show()"
   ]
  },
  {
   "cell_type": "code",
   "execution_count": null,
   "metadata": {
    "colab": {
     "base_uri": "https://localhost:8080/",
     "height": 449
    },
    "executionInfo": {
     "elapsed": 396,
     "status": "ok",
     "timestamp": 1755450660410,
     "user": {
      "displayName": "SREERAG vs",
      "userId": "02446226393956372357"
     },
     "user_tz": -330
    },
    "id": "bzJrnAz86_wf",
    "outputId": "bc115fb7-1e83-4d3d-e889-abebcddd8e5a"
   },
   "outputs": [],
   "source": [
    "sns.scatterplot(x=diabeticDF['BMI'], y=diabeticDF['Blood_Pressure'])\n",
    "plt.xlabel('BMI')\n",
    "plt.ylabel('Blood Pressure')\n",
    "plt.show()"
   ]
  },
  {
   "cell_type": "code",
   "execution_count": null,
   "metadata": {
    "colab": {
     "base_uri": "https://localhost:8080/",
     "height": 449
    },
    "executionInfo": {
     "elapsed": 18,
     "status": "ok",
     "timestamp": 1755450660421,
     "user": {
      "displayName": "SREERAG vs",
      "userId": "02446226393956372357"
     },
     "user_tz": -330
    },
    "id": "hJbt-Oss7jqY",
    "outputId": "dc3ef45d-9109-40ef-b728-fddd7c263bdf"
   },
   "outputs": [],
   "source": [
    "sns.scatterplot(x=df['BMI'], y=df['Blood_Pressure'])\n",
    "plt.xlabel('BMI')\n",
    "plt.ylabel('Blood Pressure')\n",
    "plt.show()"
   ]
  },
  {
   "cell_type": "code",
   "execution_count": null,
   "metadata": {
    "colab": {
     "base_uri": "https://localhost:8080/",
     "height": 206
    },
    "executionInfo": {
     "elapsed": 113,
     "status": "ok",
     "timestamp": 1755450823289,
     "user": {
      "displayName": "SREERAG vs",
      "userId": "02446226393956372357"
     },
     "user_tz": -330
    },
    "id": "figPn5nh_69A",
    "outputId": "ba14f271-86be-49c0-d781-a35d45c8de94"
   },
   "outputs": [],
   "source": [
    "diabeticDF.head()"
   ]
  },
  {
   "cell_type": "code",
   "execution_count": null,
   "metadata": {
    "colab": {
     "base_uri": "https://localhost:8080/"
    },
    "executionInfo": {
     "elapsed": 50,
     "status": "ok",
     "timestamp": 1755451152816,
     "user": {
      "displayName": "SREERAG vs",
      "userId": "02446226393956372357"
     },
     "user_tz": -330
    },
    "id": "iERckAF6CrtA",
    "outputId": "6cb5def3-fce7-4279-c11f-a453c1334b86"
   },
   "outputs": [],
   "source": [
    "diabeticDF.shape"
   ]
  },
  {
   "cell_type": "code",
   "execution_count": null,
   "metadata": {
    "colab": {
     "base_uri": "https://localhost:8080/"
    },
    "executionInfo": {
     "elapsed": 48,
     "status": "ok",
     "timestamp": 1755450970800,
     "user": {
      "displayName": "SREERAG vs",
      "userId": "02446226393956372357"
     },
     "user_tz": -330
    },
    "id": "eyL6-kDrBkkx",
    "outputId": "e45410a5-4bf4-4c6c-d1a4-dfedf667ff4b"
   },
   "outputs": [],
   "source": [
    "for col in categorical_columns:\n",
    "  # print(col)\n",
    "  print(diabeticDF[col].value_counts())\n",
    "  print()\n"
   ]
  },
  {
   "cell_type": "code",
   "execution_count": null,
   "metadata": {
    "colab": {
     "base_uri": "https://localhost:8080/",
     "height": 1000
    },
    "executionInfo": {
     "elapsed": 1859,
     "status": "ok",
     "timestamp": 1755451054915,
     "user": {
      "displayName": "SREERAG vs",
      "userId": "02446226393956372357"
     },
     "user_tz": -330
    },
    "id": "e72vuZPbB39v",
    "outputId": "6c96c4ac-1f9d-48f3-abab-ab25aef35a26"
   },
   "outputs": [],
   "source": [
    "for col in numeric_columns:\n",
    "  sns.histplot(diabeticDF[col], kde=True)\n",
    "  plt.show()"
   ]
  },
  {
   "cell_type": "markdown",
   "metadata": {
    "id": "9CGJ6qZcOyy-"
   },
   "source": [
    "# **Multivariate Analysis**"
   ]
  },
  {
   "cell_type": "code",
   "execution_count": null,
   "metadata": {
    "executionInfo": {
     "elapsed": 40,
     "status": "ok",
     "timestamp": 1755451544402,
     "user": {
      "displayName": "SREERAG vs",
      "userId": "02446226393956372357"
     },
     "user_tz": -330
    },
    "id": "HNIZ0bbpCVLT"
   },
   "outputs": [],
   "source": [
    "diabeticDF.to_csv('diabeticDF.csv', index=False)"
   ]
  },
  {
   "cell_type": "code",
   "execution_count": null,
   "metadata": {
    "colab": {
     "base_uri": "https://localhost:8080/",
     "height": 673
    },
    "executionInfo": {
     "elapsed": 654,
     "status": "ok",
     "timestamp": 1755451776362,
     "user": {
      "displayName": "SREERAG vs",
      "userId": "02446226393956372357"
     },
     "user_tz": -330
    },
    "id": "zgjozRFCENIS",
    "outputId": "3f03a1b9-f70d-4c9b-c5aa-e157e5ab7763"
   },
   "outputs": [],
   "source": [
    "# 1. Correlation Heatmap\n",
    "plt.figure(figsize=(10,6))\n",
    "sns.heatmap(diabeticDF.corr(numeric_only=True), annot=True, cmap=\"coolwarm\", fmt=\".2f\")\n",
    "plt.title(\"Correlation Heatmap of Numeric Features\")\n",
    "plt.show()"
   ]
  },
  {
   "cell_type": "code",
   "execution_count": null,
   "metadata": {
    "colab": {
     "base_uri": "https://localhost:8080/",
     "height": 1000
    },
    "executionInfo": {
     "elapsed": 6388,
     "status": "ok",
     "timestamp": 1755452169720,
     "user": {
      "displayName": "SREERAG vs",
      "userId": "02446226393956372357"
     },
     "user_tz": -330
    },
    "id": "N7il1j-YErIw",
    "outputId": "7a14027e-6c4a-45de-8ecf-4717aaa5eacc"
   },
   "outputs": [],
   "source": [
    "# 2. Pairplot for selected features\n",
    "\n",
    "sns.pairplot(diabeticDF[numeric_columns])\n",
    "plt.show()"
   ]
  },
  {
   "cell_type": "markdown",
   "metadata": {
    "id": "1g8PRNJuNnZQ"
   },
   "source": [
    "# **Key Findings**"
   ]
  },
  {
   "cell_type": "markdown",
   "metadata": {
    "id": "OmcDyxF4NiUJ"
   },
   "source": [
    "Diabetic individuals in the dataset are more likely to have high cholesterol.\n",
    "\n",
    "\n",
    "There is a significantly higher ratio of diabetes among smokers (79%) compared to non-smokers (46%).\n",
    "\n",
    "Diabetic patients, on average, have higher blood pressure than non-diabetic individuals.\n",
    "\n",
    "The dataset shows a wide distribution of Age, Height, Weight, and BMI, with outliers present in BMI, Blood Pressure, and Annual Income.\n",
    "\n",
    "\n",
    "\n",
    "A majority of the overall population (59.5%) in the dataset has a normal cholesterol level, while 30.4% have high and 10.1% have very high cholesterol."
   ]
  },
  {
   "cell_type": "markdown",
   "metadata": {
    "id": "8gFkgyBGN_lA"
   },
   "source": [
    "# **Summary and Conclusion**\n",
    "\n",
    "The EDA highlights strong associations between smoking and cholesterol levels with diabetes.\n",
    "\n",
    "Smokers have a significantly higher risk of being diabetic compared to non-smokers, and diabetic patients frequently have high cholesterol.\n",
    "\n",
    "The analysis also suggests a correlation between diabetes and elevated blood pressure."
   ]
  }
 ],
 "metadata": {
  "colab": {
   "authorship_tag": "ABX9TyMVFcH1ETJ1vr6UZY/rU2kT",
   "provenance": []
  },
  "kernelspec": {
   "display_name": "Python 3 (ipykernel)",
   "language": "python",
   "name": "python3"
  },
  "language_info": {
   "codemirror_mode": {
    "name": "ipython",
    "version": 3
   },
   "file_extension": ".py",
   "mimetype": "text/x-python",
   "name": "python",
   "nbconvert_exporter": "python",
   "pygments_lexer": "ipython3",
   "version": "3.9.21"
  }
 },
 "nbformat": 4,
 "nbformat_minor": 4
}
